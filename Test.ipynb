{
 "cells": [
  {
   "cell_type": "code",
   "execution_count": 1,
   "metadata": {},
   "outputs": [
    {
     "data": {
      "application/javascript": [
       "require.undef(\"nbextensions/vpython_libraries/glow.min\");"
      ],
      "text/plain": [
       "<IPython.core.display.Javascript object>"
      ]
     },
     "metadata": {},
     "output_type": "display_data"
    },
    {
     "data": {
      "application/javascript": [
       "require.undef(\"nbextensions/vpython_libraries/glowcomm\");"
      ],
      "text/plain": [
       "<IPython.core.display.Javascript object>"
      ]
     },
     "metadata": {},
     "output_type": "display_data"
    },
    {
     "data": {
      "application/javascript": [
       "require.undef(\"nbextensions/vpython_libraries/jquery-ui.custom.min\");"
      ],
      "text/plain": [
       "<IPython.core.display.Javascript object>"
      ]
     },
     "metadata": {},
     "output_type": "display_data"
    },
    {
     "data": {
      "application/javascript": [
       "require([\"nbextensions/vpython_libraries/glow.min\"], function(){console.log(\"GLOW LOADED\");})"
      ],
      "text/plain": [
       "<IPython.core.display.Javascript object>"
      ]
     },
     "metadata": {},
     "output_type": "display_data"
    },
    {
     "data": {
      "application/javascript": [
       "require([\"nbextensions/vpython_libraries/glowcomm\"], function(){console.log(\"GLOWCOMM LOADED\");})"
      ],
      "text/plain": [
       "<IPython.core.display.Javascript object>"
      ]
     },
     "metadata": {},
     "output_type": "display_data"
    },
    {
     "data": {
      "application/javascript": [
       "require([\"nbextensions/vpython_libraries/jquery-ui.custom.min\"], function(){console.log(\"JQUERY LOADED\");})"
      ],
      "text/plain": [
       "<IPython.core.display.Javascript object>"
      ]
     },
     "metadata": {},
     "output_type": "display_data"
    },
    {
     "data": {
      "text/html": [
       "<div id=\"glowscript\" class=\"glowscript\"></div>"
      ],
      "text/plain": [
       "<IPython.core.display.HTML object>"
      ]
     },
     "metadata": {},
     "output_type": "display_data"
    },
    {
     "data": {
      "application/javascript": [
       "window.__context = { glowscript_container: $(\"#glowscript\").removeAttr(\"id\")}"
      ],
      "text/plain": [
       "<IPython.core.display.Javascript object>"
      ]
     },
     "metadata": {},
     "output_type": "display_data"
    }
   ],
   "source": [
    "from vpython import *\n",
    "\n",
    "#This iteration projects rays from a sphere projecting to the surface of a larger spheroid.\n",
    "\n",
    "spikeball = sphere(pos = vector(0, 0, 0), radius = 0.01, color = color.white)\n",
    "r = curve(pos = [(0,0,0), (0,0,0)])\n",
    "\n",
    "r.aa = curve(pos = [(0,0,0),(1, 0, 0)], color = color.yellow) #Set of rays along each axis\n",
    "r.ab = curve(pos = [(0,0,0),(-1, 0, 0)], color = color.yellow)\n",
    "r.ac = curve(pos = [(0,0,0),(0, 1, 0)], color = color.yellow)\n",
    "r.ad = curve(pos = [(0,0,0),(0, -1, 0)], color = color.yellow)\n",
    "r.ae = curve(pos = [(0,0,0),(0, 0, 1)], color = color.yellow)\n",
    "r.af = curve(pos = [(0,0,0),(0, 0, -1)], color = color.yellow)\n",
    "\n",
    "r.ba = curve(pos = [(0,0,0),(100/141.421, 100/141.421, 0)], color = color.yellow) #Set of rays in 2D planes of two coordinate axes\n",
    "r.bb = curve(pos = [(0,0,0),(-100/141.421, 100/141.421, 0)], color = color.yellow)\n",
    "r.bc = curve(pos = [(0,0,0),(100/141.421, -100/141.421, 0)], color = color.yellow)\n",
    "r.bd = curve(pos = [(0,0,0),(-100/141.421, -100/141.421, 0)], color = color.yellow)\n",
    "r.be = curve(pos = [(0,0,0),(100/141.421, 0, 100/141.421)], color = color.yellow)\n",
    "r.bf = curve(pos = [(0,0,0),(-100/141.421, 0, 100/141.421)], color = color.yellow)\n",
    "r.bg = curve(pos = [(0,0,0),(100/141.421, 0, -100/141.421)], color = color.yellow)\n",
    "r.bh = curve(pos = [(0,0,0),(-100/141.421, 0, -100/141.421)], color = color.yellow)\n",
    "r.bi = curve(pos = [(0,0,0),(0, 100/141.421, 100/141.421)], color = color.yellow)\n",
    "r.bj = curve(pos = [(0,0,0),(0, -100/141.421, 100/141.421)], color = color.yellow)\n",
    "r.bk = curve(pos = [(0,0,0),(0, 100/141.421, -100/141.421)], color = color.yellow)\n",
    "r.bl = curve(pos = [(0,0,0),(0, -100/141.421, -100/141.421)], color = color.yellow)\n",
    "\n",
    "r.m = curve(pos = [(0,0,0), (100/173.205081,100/173.205081,100/173.205081)], color = color.yellow) #Set of rays along no explicit axis\n",
    "r.n = curve(pos = [(0,0,0), (-100/173.205081,100/173.205081,100/173.205081)], color = color.yellow)\n",
    "r.o = curve(pos = [(0,0,0), (100/173.205081,-100/173.205081,100/173.205081)], color = color.yellow)\n",
    "r.p = curve(pos = [(0,0,0), (100/173.205081,100/173.205081,-100/173.205081)], color = color.yellow)\n",
    "r.q = curve(pos = [(0,0,0), (-100/173.205081,-100/173.205081,100/173.205081)], color = color.yellow)\n",
    "r.r = curve(pos = [(0,0,0), (-100/173.205081,-100/173.205081,-100/173.205081)], color = color.yellow)\n",
    "r.s = curve(pos = [(0,0,0), (100/173.205081,-100/173.205081,-100/173.205081)], color = color.yellow)\n",
    "r.t = curve(pos = [(0,0,0), (-100/173.205081,100/173.205081,-100/173.205081)], color = color.yellow)\n",
    "\n"
   ]
  },
  {
   "cell_type": "code",
   "execution_count": null,
   "metadata": {},
   "outputs": [],
   "source": [
    "from vpython import *\n",
    "\n",
    "spikecube = sphere(pos = vector(0, 0, 0), radius = 0.01, color = color.white)\n",
    "r = curve(pos = [(0,0,0), (0,0,0)])\n",
    "\n",
    "r.aa = curve(pos = [(0,0,0),(1, 0, 0)], color = color.yellow) #Set of rays along each axis\n",
    "r.ab = curve(pos = [(0,0,0),(-1, 0, 0)], color = color.yellow)\n",
    "r.ac = curve(pos = [(0,0,0),(0, 1, 0)], color = color.yellow)\n",
    "r.ad = curve(pos = [(0,0,0),(0, -1, 0)], color = color.yellow)\n",
    "r.ae = curve(pos = [(0,0,0),(0, 0, 1)], color = color.yellow)\n",
    "r.af = curve(pos = [(0,0,0),(0, 0, -1)], color = color.yellow)\n",
    "\n",
    "r.ba = curve(pos = [(0,0,0),(1, 1, 0)], color = color.yellow) #Set of rays in 2D planes of two coordinate axes\n",
    "r.bb = curve(pos = [(0,0,0),(-1, 1, 0)], color = color.yellow)\n",
    "r.bc = curve(pos = [(0,0,0),(1, -1, 0)], color = color.yellow)\n",
    "r.bd = curve(pos = [(0,0,0),(-1, 0, -1)], color = color.yellow)\n",
    "r.be = curve(pos = [(0,0,0),(1, 0, 1)], color = color.yellow)\n",
    "r.bf = curve(pos = [(0,0,0),(-1, 0, 1)], color = color.yellow)\n",
    "r.bg = curve(pos = [(0,0,0),(1, 0, -1)], color = color.yellow)\n",
    "r.bh = curve(pos = [(0,0,0),(-1, 0, -1)], color = color.yellow)\n",
    "r.bi = curve(pos = [(0,0,0),(0, 1, 1)], color = color.yellow)\n",
    "r.bj = curve(pos = [(0,0,0),(0, -1, 1)], color = color.yellow)\n",
    "r.bk = curve(pos = [(0,0,0),(0, 1, -1)], color = color.yellow)\n",
    "r.bl = curve(pos = [(0,0,0),(0, -1, -1)], color = color.yellow)\n",
    "\n",
    "r.m = curve(pos = [(0,0,0), (1,1,1)], color = color.yellow) #Set of rays along no explicit axis\n",
    "r.n = curve(pos = [(0,0,0), (-1,1,1)], color = color.yellow)\n",
    "r.o = curve(pos = [(0,0,0), (1,-1,1)], color = color.yellow)\n",
    "r.p = curve(pos = [(0,0,0), (1,1,-1)], color = color.yellow)\n",
    "r.q = curve(pos = [(0,0,0), (-1,-1,1)], color = color.yellow)\n",
    "r.r = curve(pos = [(0,0,0), (-1,-1,-1)], color = color.yellow)\n",
    "r.s = curve(pos = [(0,0,0), (1,-1,-1)], color = color.yellow)\n",
    "r.t = curve(pos = [(0,0,0), (-1,1,-1)], color = color.yellow)"
   ]
  },
  {
   "cell_type": "code",
   "execution_count": null,
   "metadata": {
    "collapsed": true
   },
   "outputs": [],
   "source": []
  }
 ],
 "metadata": {
  "kernelspec": {
   "display_name": "Python 3",
   "language": "python",
   "name": "python3"
  },
  "language_info": {
   "codemirror_mode": {
    "name": "ipython",
    "version": 3
   },
   "file_extension": ".py",
   "mimetype": "text/x-python",
   "name": "python",
   "nbconvert_exporter": "python",
   "pygments_lexer": "ipython3",
   "version": "3.6.1"
  }
 },
 "nbformat": 4,
 "nbformat_minor": 2
}
