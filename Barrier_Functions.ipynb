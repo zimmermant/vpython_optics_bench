{
 "cells": [
  {
   "cell_type": "code",
   "execution_count": null,
   "metadata": {
    "collapsed": true
   },
   "outputs": [],
   "source": [
    "def refract(face)\n",
    "    thetaRefracted = asin((self.n/ray.world_n)*sin(thetaIncident))\n",
    "    a1 = ray.directionVector - (face * dot(ray.directionVector,face))\n",
    "    ray.directionVector = (1*cos(thetaRefracted)*face) + (sin(thetaRefracted)*a1.norm())\n",
    "    return\n",
    "\n",
    "def reflect(face)\n",
    "    thetaRefracted = thetaIncident\n",
    "    a1 = ray.directionVector - (self.normalFront * dot(ray.directionVector,self.normalFront))\n",
    "    ray.directionVector = (-1*cos(thetaRefracted)*self.normalFront) + (sin(thetaRefracted)*a1.norm())\n",
    "    return"
   ]
  }
 ],
 "metadata": {
  "kernelspec": {
   "display_name": "VPython",
   "language": "python",
   "name": "vpython"
  },
  "language_info": {
   "codemirror_mode": {
    "name": "ipython",
    "version": 3
   },
   "file_extension": ".py",
   "mimetype": "text/x-python",
   "name": "python",
   "nbconvert_exporter": "python",
   "pygments_lexer": "ipython3",
   "version": "3.6.1"
  }
 },
 "nbformat": 4,
 "nbformat_minor": 2
}
