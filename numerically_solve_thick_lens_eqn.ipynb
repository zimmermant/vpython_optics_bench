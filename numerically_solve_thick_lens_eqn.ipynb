{
 "cells": [
  {
   "cell_type": "code",
   "execution_count": 24,
   "metadata": {},
   "outputs": [],
   "source": [
    "import numpy as np\n",
    "from scipy.optimize import fsolve  #You will need to install the scipy package for python\n",
    "from math import sqrt"
   ]
  },
  {
   "cell_type": "code",
   "execution_count": 149,
   "metadata": {},
   "outputs": [],
   "source": [
    "h=5 #height of lens\n",
    "n=1.5  #Index of refraction of lens \n",
    "f=20   #Desired focal length\n",
    "\n",
    "def thick_lens(R):\n",
    "    '''Function that can be used to calculate the radius of curvature of a lens\n",
    "    \n",
    "    For some reason I need to take the absolute value of the argument inside the square\n",
    "    root.  Without this fsolve throws a domain error.'''\n",
    "    return (n-1)*(2/R[0]+((2*R[0]-2*sqrt(abs(R[0]**2-h**2/4))*(n-1))/(n*R[0]**2)))-1/f\n",
    "\n",
    "def thickness(R):\n",
    "    return 2*R-2*sqrt(R**2 - h**2/4)"
   ]
  },
  {
   "cell_type": "code",
   "execution_count": 150,
   "metadata": {},
   "outputs": [
    {
     "data": {
      "text/plain": [
       "26.695963647828979"
      ]
     },
     "execution_count": 150,
     "metadata": {},
     "output_type": "execute_result"
    }
   ],
   "source": [
    "r=fsolve(thick_lens,2)\n",
    "radius=r[0]\n",
    "radius"
   ]
  },
  {
   "cell_type": "code",
   "execution_count": 151,
   "metadata": {},
   "outputs": [
    {
     "data": {
      "text/plain": [
       "0.23463334323007956"
      ]
     },
     "execution_count": 151,
     "metadata": {},
     "output_type": "execute_result"
    }
   ],
   "source": [
    "thickness(radius)"
   ]
  },
  {
   "cell_type": "code",
   "execution_count": null,
   "metadata": {},
   "outputs": [],
   "source": []
  }
 ],
 "metadata": {
  "kernelspec": {
   "display_name": "Python 3",
   "language": "python",
   "name": "python3"
  },
  "language_info": {
   "codemirror_mode": {
    "name": "ipython",
    "version": 3
   },
   "file_extension": ".py",
   "mimetype": "text/x-python",
   "name": "python",
   "nbconvert_exporter": "python",
   "pygments_lexer": "ipython3",
   "version": "3.6.3"
  }
 },
 "nbformat": 4,
 "nbformat_minor": 2
}
