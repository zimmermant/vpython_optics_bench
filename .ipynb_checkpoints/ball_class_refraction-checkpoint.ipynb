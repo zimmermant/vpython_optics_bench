{
 "cells": [
  {
   "cell_type": "code",
   "execution_count": null,
   "metadata": {
    "collapsed": true
   },
   "outputs": [],
   "source": []
  },
  {
   "cell_type": "code",
   "execution_count": 1,
   "metadata": {
    "scrolled": false
   },
   "outputs": [
    {
     "data": {
      "application/javascript": [
       "require.undef(\"nbextensions/vpython_libraries/glow.min\");"
      ],
      "text/plain": [
       "<IPython.core.display.Javascript object>"
      ]
     },
     "metadata": {},
     "output_type": "display_data"
    },
    {
     "data": {
      "application/javascript": [
       "require.undef(\"nbextensions/vpython_libraries/glowcomm\");"
      ],
      "text/plain": [
       "<IPython.core.display.Javascript object>"
      ]
     },
     "metadata": {},
     "output_type": "display_data"
    },
    {
     "data": {
      "application/javascript": [
       "require.undef(\"nbextensions/vpython_libraries/jquery-ui.custom.min\");"
      ],
      "text/plain": [
       "<IPython.core.display.Javascript object>"
      ]
     },
     "metadata": {},
     "output_type": "display_data"
    },
    {
     "data": {
      "application/javascript": [
       "require([\"nbextensions/vpython_libraries/glow.min\"], function(){console.log(\"GLOW LOADED\");})"
      ],
      "text/plain": [
       "<IPython.core.display.Javascript object>"
      ]
     },
     "metadata": {},
     "output_type": "display_data"
    },
    {
     "data": {
      "application/javascript": [
       "require([\"nbextensions/vpython_libraries/glowcomm\"], function(){console.log(\"GLOWCOMM LOADED\");})"
      ],
      "text/plain": [
       "<IPython.core.display.Javascript object>"
      ]
     },
     "metadata": {},
     "output_type": "display_data"
    },
    {
     "data": {
      "application/javascript": [
       "require([\"nbextensions/vpython_libraries/jquery-ui.custom.min\"], function(){console.log(\"JQUERY LOADED\");})"
      ],
      "text/plain": [
       "<IPython.core.display.Javascript object>"
      ]
     },
     "metadata": {},
     "output_type": "display_data"
    },
    {
     "data": {
      "text/html": [
       "<div id=\"glowscript\" class=\"glowscript\"></div>"
      ],
      "text/plain": [
       "<IPython.core.display.HTML object>"
      ]
     },
     "metadata": {},
     "output_type": "display_data"
    },
    {
     "data": {
      "application/javascript": [
       "window.__context = { glowscript_container: $(\"#glowscript\").removeAttr(\"id\")}"
      ],
      "text/plain": [
       "<IPython.core.display.Javascript object>"
      ]
     },
     "metadata": {},
     "output_type": "display_data"
    },
    {
     "data": {
      "text/html": [
       "<div id=\"glowscript\" class=\"glowscript\"></div>"
      ],
      "text/plain": [
       "<IPython.core.display.HTML object>"
      ]
     },
     "metadata": {},
     "output_type": "display_data"
    },
    {
     "data": {
      "application/javascript": [
       "window.__context = { glowscript_container: $(\"#glowscript\").removeAttr(\"id\")}"
      ],
      "text/plain": [
       "<IPython.core.display.Javascript object>"
      ]
     },
     "metadata": {},
     "output_type": "display_data"
    }
   ],
   "source": [
    "from vpython import *\n",
    "import numpy\n",
    "\n",
    "scene = canvas()\n",
    "\n",
    "#Classes\n",
    "# A class is a template for an object\n",
    "    #Ray class is a template for a ray\n",
    "    #init: Set all of the variables for the beam\n",
    "    #define methods\n",
    "\n",
    "class ray():\n",
    "    '''A light ray class'''\n",
    "    def __init__(self,startPoint,directionVector,color):\n",
    "        self.startPoint = startPoint\n",
    "        self.oldPoint = startPoint   ### Position of light ray prior to current time step ###\n",
    "        self.currentPoint = startPoint\n",
    "        self.directionVector = directionVector.norm()\n",
    "        self.color = color\n",
    "        self.length = 10\n",
    "        self.world_n=1   ### Value of n for medium ray is currently in ###\n",
    "        self.ray = curve(pos=self.currentPoint, color=self.color)\n",
    "        \n",
    "        #self.draw_ray()  ### Commented out to let world() draw ray\n",
    "        \n",
    "        #Draw all rays in Source\n",
    "    def draw_ray(self):\n",
    "        '''Draw a single light ray'''\n",
    "        self.oldPoint=self.currentPoint ### Set old point to the current position BEFORE the update ###\n",
    "        newPoint = self.currentPoint + self.length*self.directionVector\n",
    "        self.currentPoint = newPoint\n",
    "        self.ray.append(newPoint)\n",
    "        \n",
    "            \n",
    "        #Loop to check the position of newPoint.  If position is greater than 5, call Snell's Law\n",
    "        #                                         and assign a new direction vector\n",
    "    \n",
    "        #Define normal as normal vector to object\n",
    "        #Using Snell's Law (numpy.arcsin((1/(1.5))*sin(vector.diff_angle(ray1,normal))))\n",
    "    def newDirection(self,newDirection):\n",
    "        '''Set a new direction for the ray'''\n",
    "        self.directionVector = newDirection                   \n",
    "        \n",
    "        #Stop when encounters an object and then reset length to 10\n",
    "    def newLength(self,newLength):\n",
    "        '''Set a new length for the vector'''\n",
    "        self.length=newLength\n",
    "        \n",
    "class beam():\n",
    "    '''A Beam Class'''\n",
    "    def __init__(self, centerRay, width):\n",
    "        self.centerRay = centerRay\n",
    "        self.currentPoint = centerRay.currentPoint\n",
    "        self.beamDirection = centerRay.directionVector\n",
    "        self.width = width\n",
    "        self.color = centerRay.color\n",
    "        self.beam = []\n",
    "        ### Begin changes to fix perpendicular rays ###\n",
    "        self.find_perp()   #Find two rays perpendicular to centerRay\n",
    "        self.draw_beam()\n",
    "          \n",
    "    def find_perp(self):\n",
    "        '''Find two vectors perpendicular to the center ray'''\n",
    "        if centerRay.directionVector.y==0 and centerRay.directionVector.x==0:\n",
    "            self.perp1=vec(1,0,0)\n",
    "        else:\n",
    "            self.perp1 = norm(vec(centerRay.directionVector.y,-centerRay.directionVector.x,0))\n",
    "        self.perp2 = norm(vec(centerRay.directionVector.cross(self.perp1)))\n",
    "        ### End changes to fix perpendicular rays ###\n",
    "\n",
    "    def draw_beam(self):\n",
    "        '''Draw a beam; lots of parallel rays'''\n",
    "        for i in numpy.arange(0,self.width,.1): \n",
    "            for k in numpy.arange(0,2*pi+0.1,.1):\n",
    "                self.newStart = centerRay.startPoint + i*(self.perp1*cos(k)+self.perp2*sin(k))\n",
    "                beamRay = ray(self.newStart, self.beamDirection, self.color)                  \n",
    "                self.beam.append(beamRay)\n",
    "        \n",
    "class pointSource():\n",
    "    def __init__(self, position):\n",
    "        self.position = position\n",
    "        self.color = centerRay.color\n",
    "        self.pointSource = []\n",
    "        self.source = sphere(pos=vec(centerRay.startPoint), radius=0.01, color=self.color)\n",
    "        \n",
    "        self.draw_pointSource()\n",
    "    \n",
    "    def draw_pointSource(self):\n",
    "        '''Draw a point source'''\n",
    "        self.source\n",
    "        \n",
    "        for i in numpy.arange(0,2*pi+0.1,(pi/36)):\n",
    "            for k in numpy.arange(0,2*pi+0.1,(pi/36)):\n",
    "                \n",
    "                x = centerRay.length*(cos(k)*cos(i))\n",
    "                y = centerRay.length*(cos(k)*sin(i))\n",
    "                z = centerRay.length*(sin(k))\n",
    "                \n",
    "                pointSourceRay = ray(self.position, vec(x,y,z), self.color)\n",
    "                \n",
    "                self.pointSource.append(pointSourceRay)\n",
    "                \n",
    "\n",
    "      \n",
    "#####\n",
    "# Start of World\n",
    "#####\n",
    "\n",
    "class world():\n",
    "    def __init__(self):\n",
    "        self.rays=[]\n",
    "        self.objects=[]\n",
    "        self.dL = 0.007   #Ray step size\n",
    "        self.n = 1   #Default index of refraction for the world\n",
    "        self.MAX_LENGTH = 20  ### Set to 10 ###\n",
    "        self.current_length = 0 ### Length of current ray being drawn ###\n",
    "        \n",
    "        \n",
    "    def add_ray(self,new_ray):\n",
    "        '''Add a ray to the world'''\n",
    "        self.rays.append(new_ray)\n",
    "        new_ray.length=self.dL\n",
    "        new_ray.world_n = self.n\n",
    "        \n",
    "    def add_object(self,new_object):\n",
    "        '''Add a new object to the world'''\n",
    "        self.objects.append(new_object)\n",
    "        \n",
    "    def draw_rays(self):\n",
    "        #Loop for ceching Boundaries\n",
    "        for i in self.rays:\n",
    "            self.current_length=0\n",
    "            while self.current_length < self.MAX_LENGTH:  ### Runs until we reach a max length\n",
    "                for j in self.objects:  ### Loop through all objects ###\n",
    "                    j.check_boundaries(i)   ### Call check_boundaries method for each object ###\n",
    "                i.draw_ray()\n",
    "                self.current_length=self.current_length+self.dL\n",
    "\n",
    "        #Loop\n",
    "            \n",
    "    #def draw_objets(self):\n",
    "\n",
    "#######\n",
    "#ball class\n",
    "######\n",
    "\n",
    "class ball():\n",
    "    def __init__(self,position,radius):\n",
    "        self.pos = position\n",
    "        self.r = radius\n",
    "        self.color=color.red\n",
    "        self.n = 1.5  #Let's make it out of glass for now\n",
    "        self.shape = 'sphere'\n",
    "        self.sphere = sphere(pos=self.pos, radius=self.r, color=self.color, opacity=0.5)\n",
    "                \n",
    "            \n",
    "    def check_boundaries(self,ray):\n",
    "        surface_norm = norm(ray.currentPoint-self.pos)\n",
    "        rel_pos = self.pos - ray.currentPoint\n",
    "        rel_old_pos=self.pos - ray.oldPoint\n",
    "        ### The following code should be cleaned up and better commented by me ###\n",
    "        \n",
    "        if abs(rel_pos.dot(surface_norm))< self.r and abs(rel_old_pos.dot(surface_norm))> self.r:  ### Going into sphere ###\n",
    "            thetaIncident = pi-diff_angle(ray.directionVector,surface_norm)\n",
    "            thetaRefracted = asin((ray.world_n/self.n)*sin(thetaIncident))\n",
    "            a1 = ray.directionVector - surface_norm * (dot(ray.directionVector,surface_norm))\n",
    "            ray.directionVector = (-1*cos(thetaRefracted)*surface_norm) + (sin(thetaRefracted)*a1.norm())\n",
    "        \n",
    "        if abs(rel_pos.dot(surface_norm))> self.r and abs(rel_old_pos.dot(surface_norm))< self.r:  ### Going out of sphere ###\n",
    "            thetaIncident = pi-diff_angle(ray.directionVector,surface_norm)\n",
    "            print ((self.n/ray.world_n)*sin(thetaIncident))\n",
    "            if((self.n/ray.world_n)*sin(thetaIncident) > 1): #Argument of arcsin > 1 --> Total Internal Reflection\n",
    "                thetaRefracted = thetaIncident\n",
    "                a1 = ray.directionVector - surface_norm * (dot(ray.directionVector,surface_norm))\n",
    "                ray.directionVector = (-1*cos(thetaRefracted)*surface_norm) + (sin(thetaRefracted)*a1.norm()) \n",
    "            else:\n",
    "                thetaRefracted = asin((self.n/ray.world_n)*sin(thetaIncident))\n",
    "                a1 = ray.directionVector - surface_norm * (dot(ray.directionVector,surface_norm))\n",
    "                ray.directionVector = (1*cos(thetaRefracted)*surface_norm) + (sin(thetaRefracted)*a1.norm())\n",
    "            \n",
    "class block():\n",
    "    '''an optical obstacle class'''\n",
    "    def __init__(self, position, axis, up, length, width, height, material, opacity):\n",
    "        self.position = position\n",
    "        self.axis = axis\n",
    "        self.up = up\n",
    "        self.material = material\n",
    "        self.length = length\n",
    "        self.width = width\n",
    "        self.height = height\n",
    "        if(self.material == \"glass\"):\n",
    "             self.n = 1.5\n",
    "        self.opacity = opacity\n",
    "            \n",
    "        self.draw_block()\n",
    "        \n",
    "    def draw_block(self):\n",
    "        self.shape = box(pos = self.position, axis = self.axis, up = self.up, length = self.length, width = self.width, height = self.height, opacity = self.opacity)\n",
    "        \n",
    "    def check_boundaries(self, ray):\n",
    "        self.normalFront = self.axis.norm()\n",
    "        self.normalBack = -1 * self.normalFront\n",
    "        self.normalTop = self.up.norm()\n",
    "        self.normalBottom = -1 * self.normalTop\n",
    "        self.normalLSide = cross(self.axis.norm(), self.up.norm())\n",
    "        self.normalRSide = -1 * self.normalLSide\n",
    "        \n",
    "        b = ray.currentPoint - self.position\n",
    "        b_old = ray.oldPoint - self.position\n",
    "        \n",
    "        #If ALL of these 'check' statements are true, then the ray is within the block\n",
    "        frontCheck = bool(abs(dot(b,self.normalFront)) - ((self.length)/2) <= 0)\n",
    "        backCheck = bool(abs(dot(b,self.normalBack)) - ((self.length)/2) <= 0)\n",
    "        topCheck = bool(abs(dot(b,self.normalTop)) - ((self.height)/2) <= 0)\n",
    "        bottomCheck = bool(abs(dot(b,self.normalBottom)) - ((self.height)/2) <= 0)\n",
    "        lSideCheck = bool(abs(dot(b,self.normalLSide)) - ((self.width)/2) <= 0)\n",
    "        rSideCheck = bool(abs(dot(b,self.normalRSide)) - ((self.width)/2) <= 0)\n",
    "            \n",
    "        #If ALL of these are true, then the ray was within the block on the last time step\n",
    "        frontCheck_old = bool(abs(dot(b_old,self.normalFront)) - ((self.length)/2) <= 0)\n",
    "        backCheck_old = bool(abs(dot(b_old,self.normalBack)) - ((self.length)/2) <= 0)\n",
    "        topCheck_old = bool(abs(dot(b_old,self.normalTop)) - ((self.height)/2) <= 0)\n",
    "        bottomCheck_old = bool(abs(dot(b_old,self.normalBottom)) - ((self.height)/2) <= 0)\n",
    "        lSideCheck_old = bool(abs(dot(b_old,self.normalLSide)) - ((self.width)/2) <= 0)\n",
    "        rSideCheck_old = bool(abs(dot(b_old,self.normalRSide)) - ((self.width)/2) <= 0)\n",
    "        \n",
    "     ###Check if ray is exiting the block###\n",
    "        if((frontCheck_old and backCheck_old and topCheck_old and bottomCheck_old and lSideCheck_old and rSideCheck_old) and ((not frontCheck and frontCheck_old) or (not backCheck and backCheck_old) or (not topCheck and topCheck_old) or (not bottomCheck and bottomCheck_old) or (not lSideCheck and lSideCheck_old) or (not rSideCheck and rSideCheck_old))):\n",
    "            if(frontCheck_old and not frontCheck): #Exiting Block through Axis Direction\n",
    "                if(b.dot(self.normalBack) < b.dot(self.normalFront)): #Exiting through Front Face\n",
    "                    thetaIncident = pi-diff_angle(ray.directionVector,self.normalBack)\n",
    "                    if((self.n/ray.world_n)*sin(thetaIncident) > 1): #Argument of arcsin > 1 --> Total Internal Reflection\n",
    "                        thetaRefracted = thetaIncident\n",
    "                        a1 = ray.directionVector - (self.normalFront * dot(ray.directionVector,self.normalFront))\n",
    "                        ray.directionVector = (-1*cos(thetaRefracted)*self.normalFront) + (sin(thetaRefracted)*a1.norm())\n",
    "                    else:\n",
    "                        thetaRefracted = asin((self.n/ray.world_n)*sin(thetaIncident))\n",
    "                        a1 = ray.directionVector - (self.normalFront * dot(ray.directionVector,self.normalFront))\n",
    "                        ray.directionVector = (1*cos(thetaRefracted)*self.normalFront) + (sin(thetaRefracted)*a1.norm())\n",
    "                        \n",
    "                if(b.dot(self.normalFront) < b.dot(self.normalBack)): #Exiting through Back Face\n",
    "                    thetaIncident = pi-diff_angle(ray.directionVector,self.normalFront)\n",
    "                    if((self.n/ray.world_n)*sin(thetaIncident) > 1): #Argument of arcsin > 1 --> Total Internal Reflection\n",
    "                        thetaRefracted = thetaIncident\n",
    "                        a1 = ray.directionVector - (self.normalBack * dot(ray.directionVector,self.normalBack))\n",
    "                        ray.directionVector = (-1*cos(thetaRefracted)*self.normalBack) + (sin(thetaRefracted)*a1.norm())\n",
    "                    else:\n",
    "                        thetaRefracted = asin((self.n/ray.world_n)*sin(thetaIncident))\n",
    "                        a1 = ray.directionVector - (self.normalBack * dot(ray.directionVector,self.normalBack))\n",
    "                        ray.directionVector = (1*cos(thetaRefracted)*self.normalBack) + (sin(thetaRefracted)*a1.norm())\n",
    "                        \n",
    "            if(topCheck_old and not topCheck): #Exiting Block through Up Direction\n",
    "                if(b.dot(self.normalBottom) < b.dot(self.normalTop)): #Exiting through Top Face\n",
    "                    thetaIncident = pi-diff_angle(ray.directionVector,self.normalBottom)\n",
    "                    if((self.n/ray.world_n)*sin(thetaIncident) > 1): #Argument of arcsin > 1 --> Total Internal Reflection\n",
    "                        thetaRefracted = thetaIncident\n",
    "                        a1 = ray.directionVector - (self.normalTop * dot(ray.directionVector,self.normalTop))\n",
    "                        ray.directionVector = (-1*cos(thetaRefracted)*self.normalTop) + (sin(thetaRefracted)*a1.norm())\n",
    "                    else:\n",
    "                        thetaRefracted = asin((self.n/ray.world_n)*sin(thetaIncident))\n",
    "                        a1 = ray.directionVector - (self.normalTop * dot(ray.directionVector,self.normalTop))\n",
    "                        ray.directionVector = (1*cos(thetaRefracted)*self.normalTop) + (sin(thetaRefracted)*a1.norm())\n",
    "                        \n",
    "                if(b.dot(self.normalTop) < b.dot(self.normalBottom)): #Exiting through Bottom Face\n",
    "                    thetaIncident = pi-diff_angle(ray.directionVector,self.normalTop)\n",
    "                    if((self.n/ray.world_n)*sin(thetaIncident) > 1 or (ray.world_n/self.n)*sin(thetaIncident) < -1): #Argument of arcsin > 1 --> Total Internal Reflection\n",
    "                        thetaRefracted = thetaIncident\n",
    "                        a1 = ray.directionVector - (self.normalBottom * dot(ray.directionVector,self.normalBottom))\n",
    "                        ray.directionVector = (-1*cos(thetaRefracted)*self.normalBottom) + (sin(thetaRefracted)*a1.norm())\n",
    "                    else:\n",
    "                        thetaRefracted = asin((self.n/ray.world_n)*sin(thetaIncident))\n",
    "                        a1 = ray.directionVector - (self.normalBottom * dot(ray.directionVector,self.normalBottom))\n",
    "                        ray.directionVector = (1*cos(thetaRefracted)*self.normalBottom) + (sin(thetaRefracted)*a1.norm())\n",
    "                        \n",
    "            if(lSideCheck_old and not lSideCheck): #Exiting Block through Cross Direction\n",
    "                if(b.dot(self.normalRSide) < b.dot(self.normalLSide)): #Exiting through Left Face\n",
    "                    thetaIncident = pi-diff_angle(ray.directionVector,self.normalRSide)\n",
    "                    if((self.n/ray.world_n)*sin(thetaIncident) > 1): #Argument of arcsin > 1 --> Total Internal Reflection\n",
    "                        thetaRefracted = thetaIncident\n",
    "                        a1 = ray.directionVector - (self.normalLSide * dot(ray.directionVector,self.normalLSide))\n",
    "                        ray.directionVector = (-1*cos(thetaRefracted)*self.normalLSide) + (sin(thetaRefracted)*a1.norm())\n",
    "                    else:\n",
    "                        thetaRefracted = asin((self.n/ray.world_n)*sin(thetaIncident))\n",
    "                        a1 = ray.directionVector - (self.normalLSide * dot(ray.directionVector,self.normalLSide))\n",
    "                        ray.directionVector = (1*cos(thetaRefracted)*self.normalLSide) + (sin(thetaRefracted)*a1.norm())\n",
    "                        \n",
    "                if(b.dot(self.normalLSide) < b.dot(self.normalRSide)): #Exiting through Right Face\n",
    "                    thetaIncident = pi-diff_angle(ray.directionVector,self.normalLSide)\n",
    "                    if((self.n/ray.world_n)*sin(thetaIncident) > 1): #Argument of arcsin > 1 --> Total Internal Reflection\n",
    "                        thetaRefracted = thetaIncident\n",
    "                        a1 = ray.directionVector - (self.normalRSide * dot(ray.directionVector,self.normalRSide))\n",
    "                        ray.directionVector = (-1*cos(thetaRefracted)*self.normalRSide) + (sin(thetaRefracted)*a1.norm())\n",
    "                    else:\n",
    "                        thetaRefracted = asin((self.n/ray.world_n)*sin(thetaIncident))\n",
    "                        a1 = ray.directionVector - (self.normalRSide * dot(ray.directionVector,self.normalRSide))\n",
    "                        ray.directionVector = (1*cos(thetaRefracted)*self.normalRSide) + (sin(thetaRefracted)*a1.norm())\n",
    "\n",
    "            #if(backCheck_old and not backCheck): #Exiting Block from Back Face\n",
    "            #    if (frontCheck and not backCheck and not topCheck and not bottomCheck and not lSideCheck and not rSideCheck):\n",
    "            #        thetaIncident = pi-diff_angle(ray.directionVector,self.normalFront)\n",
    "                    #if(thetaIncident >= asin(ray.world_n/self.n)):\n",
    "                        #thetaRefracted = thetaIncident\n",
    "                    #else:\n",
    "            #        thetaRefracted = asin((self.n/ray.world_n)*sin(thetaIncident))\n",
    "            #        a1 = ray.directionVector - self.normalFront * (dot(ray.directionVector,self.normalFront))\n",
    "            #        ray.directionVector = (1*cos(thetaRefracted)*self.normalFront) + (sin(thetaRefracted)*a1.norm())\n",
    "\n",
    "           \n",
    "    ###Check if ray is entering the block###\n",
    "        if((frontCheck and backCheck and topCheck and bottomCheck and lSideCheck and rSideCheck) and (frontCheck_old or backCheck_old or topCheck_old or bottomCheck_old or lSideCheck_old or rSideCheck_old)):\n",
    "            if(frontCheck and not frontCheck_old): #Entering through the axis direction\n",
    "                if(b.dot(self.normalFront) < b.dot(self.normalBack)): #Entered through front\n",
    "                    thetaIncident = pi-diff_angle(ray.directionVector, self.normalFront)\n",
    "                    thetaRefracted = asin((ray.world_n/self.n)*sin(thetaIncident))\n",
    "                    a1 = ray.directionVector - self.normalFront * (dot(ray.directionVector,self.normalFront))\n",
    "                    ray.directionVector = (1*cos(thetaRefracted)*self.normalFront) + (sin(thetaRefracted)*a1.norm())\n",
    "                    \n",
    "                if(b.dot(self.normalBack) < b.dot(self.normalFront)): #Entered through Back\n",
    "                    thetaIncident = pi-diff_angle(ray.directionVector, self.normalBack)\n",
    "                    thetaRefracted = asin((ray.world_n/self.n)*sin(thetaIncident))\n",
    "                    a1 = ray.directionVector - self.normalBack * (dot(ray.directionVector,self.normalBack))\n",
    "                    ray.directionVector = (1*cos(thetaRefracted)*self.normalBack) + (sin(thetaRefracted)*a1.norm())\n",
    "                    \n",
    "            if(topCheck and not topCheck_old): #Entering through the up direction\n",
    "                if(b.dot(self.normalTop) < b.dot(self.normalBottom)): #Entering through Top\n",
    "                    thetaIncident = pi-diff_angle(ray.directionVector, self.normalTop)\n",
    "                    thetaRefracted = asin((ray.world_n/self.n)*sin(thetaIncident))\n",
    "                    a1 = ray.directionVector - self.normalTop * (dot(ray.directionVector,self.normalTop))\n",
    "                    ray.directionVector = (1*cos(thetaRefracted)*self.normalTop) + (sin(thetaRefracted)*a1.norm())\n",
    "                \n",
    "                if(b.dot(self.normalBottom) < b.dot(self.normalTop)): #Entering through Bottom\n",
    "                    thetaIncident = pi-diff_angle(ray.directionVector, self.normalBottom)\n",
    "                    thetaRefracted = asin((ray.world_n/self.n)*sin(thetaIncident))\n",
    "                    a1 = ray.directionVector - self.normalBottom * (dot(ray.directionVector,self.normalBottom))\n",
    "                    ray.directionVector = (1*cos(thetaRefracted)*self.normalBottom) + (sin(thetaRefracted)*a1.norm())\n",
    "                    \n",
    "            if(lSideCheck and not lSideCheck_old): #Entering through cross direction\n",
    "                if(b.dot(self.normalLSide) < b.dot(self.normalRSide)): #Entering through Left Side\n",
    "                    thetaIncident = pi-diff_angle(ray.directionVector, self.normalLSide)\n",
    "                    thetaRefracted = asin((ray.world_n/self.n)*sin(thetaIncident))\n",
    "                    a1 = ray.directionVector - self.normalLSide * (dot(ray.directionVector,self.normalLSide))\n",
    "                    ray.directionVector = (1*cos(thetaRefracted)*self.normalLSide) + (sin(thetaRefracted)*a1.norm())\n",
    "                    \n",
    "                if(b.dot(self.normalRSide) < b.dot(self.normalLSide)): #Entering through Right Side\n",
    "                    thetaIncident = pi-diff_angle(ray.directionVector, self.normalRSide)\n",
    "                    thetaRefracted = asin((ray.world_n/self.n)*sin(thetaIncident))\n",
    "                    a1 = ray.directionVector - self.normalRSide * (dot(ray.directionVector,self.normalRSide))\n",
    "                    ray.directionVector = (1*cos(thetaRefracted)*self.normalRSide) + (sin(thetaRefracted)*a1.norm())\n",
    "        \n",
    "#######\n",
    "# Test Code\n",
    "#######\n",
    "\n",
    "#round_thing=ball(vec(1,0,0), 2.1) \n",
    "square_thing=block(vec(4,0,0), vec(2,0,1), vec(0,1,0), 3, 3, 3, \"glass\", opacity = 0.5)\n",
    "light1=ray(vec(-5,1,0),vec(1,0,0),color.blue)\n",
    "light2=ray(vec(-5,-1,0),vec(1,0,0), color.blue)\n",
    "light3=ray(vec(-5,0,0), vec(1,0,0), color=color.yellow)\n",
    "light4=ray(vec(-5,2,0), vec(1,0,0), color.red)\n",
    "light5=ray(vec(-5,-2,0), vec(1,0,0), color.red)\n",
    "light6=ray(vec(-5,0,-2),vec(1,0,0),color.red)\n",
    "light7=ray(vec(-5,0,-1),vec(1,0,0), color.blue)\n",
    "light8=ray(vec(-5,0,0), vec(1,0,0), color=color.yellow)\n",
    "light9=ray(vec(-5,0,1), vec(1,0,0), color.blue)\n",
    "light10=ray(vec(-5,0,2), vec(1,0,0), color.red)\n",
    "my_world=world()\n",
    "my_world.add_ray(light1)\n",
    "my_world.add_ray(light2)\n",
    "my_world.add_ray(light3)\n",
    "my_world.add_ray(light4)\n",
    "my_world.add_ray(light5)\n",
    "my_world.add_ray(light6)\n",
    "my_world.add_ray(light7)\n",
    "my_world.add_ray(light8)\n",
    "my_world.add_ray(light9)\n",
    "my_world.add_ray(light10)\n",
    "#my_world.add_object(round_thing)\n",
    "my_world.add_object(square_thing)\n",
    "my_world.draw_rays()\n",
    "\n"
   ]
  },
  {
   "cell_type": "code",
   "execution_count": null,
   "metadata": {
    "collapsed": true
   },
   "outputs": [],
   "source": []
  },
  {
   "cell_type": "code",
   "execution_count": null,
   "metadata": {
    "collapsed": true
   },
   "outputs": [],
   "source": []
  }
 ],
 "metadata": {
  "kernelspec": {
   "display_name": "Python 3",
   "language": "python",
   "name": "python3"
  },
  "language_info": {
   "codemirror_mode": {
    "name": "ipython",
    "version": 3
   },
   "file_extension": ".py",
   "mimetype": "text/x-python",
   "name": "python",
   "nbconvert_exporter": "python",
   "pygments_lexer": "ipython3",
   "version": "3.6.1"
  }
 },
 "nbformat": 4,
 "nbformat_minor": 2
}
