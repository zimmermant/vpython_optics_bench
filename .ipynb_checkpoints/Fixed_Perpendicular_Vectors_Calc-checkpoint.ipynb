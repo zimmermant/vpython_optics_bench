{
 "cells": [
  {
   "cell_type": "code",
   "execution_count": 11,
   "metadata": {},
   "outputs": [
    {
     "data": {
      "text/html": [
       "<div id=\"glowscript\" class=\"glowscript\"></div>"
      ],
      "text/plain": [
       "<IPython.core.display.HTML object>"
      ]
     },
     "metadata": {},
     "output_type": "display_data"
    },
    {
     "data": {
      "application/javascript": [
       "window.__context = { glowscript_container: $(\"#glowscript\").removeAttr(\"id\")}"
      ],
      "text/plain": [
       "<IPython.core.display.Javascript object>"
      ]
     },
     "metadata": {},
     "output_type": "display_data"
    }
   ],
   "source": [
    "from vpython import *\n",
    "import numpy\n",
    "\n",
    "scene = canvas()\n",
    "\n",
    "#Classes\n",
    "# A class is a template for an object\n",
    "    #Ray class is a template for a ray\n",
    "    #init: Set all of the variables for the beam\n",
    "    #define methods\n",
    "\n",
    "class ray():\n",
    "    '''A light ray class'''\n",
    "    def __init__(self,startPoint,directionVector,color):\n",
    "        self.startPoint = startPoint\n",
    "        self.currentPoint = startPoint\n",
    "        self.directionVector= directionVector.norm()\n",
    "        self.color = color\n",
    "        self.length = 10\n",
    "        self.ray = curve(pos=self.currentPoint, color=self.color)\n",
    "        self.draw_ray()\n",
    "        \n",
    "        #Draw all rays in Source\n",
    "    def draw_ray(self):\n",
    "        '''Draw a single light ray'''\n",
    "        newPoint = self.currentPoint+self.length*self.directionVector.norm()\n",
    "        self.currentPoint = newPoint\n",
    "        self.ray.append(newPoint)\n",
    "    \n",
    "        #Define normal as normal vector to object\n",
    "        #Using Snell's Law (numpy.arcsin((1/(1.5))*sin(vector.diff_angle(ray1,normal))))\n",
    "    def newDirection(self,newDirection):\n",
    "        '''Set a new direction for the ray'''\n",
    "        self.directionVector = newDirection                   \n",
    "        \n",
    "        #Stop when encounters an object and then reset length to 10\n",
    "    def newLength(self,newLength):\n",
    "        '''Set a new length for the vector'''\n",
    "        self.length=newLength\n",
    "        \n",
    "class beam():\n",
    "    '''A Beam Class'''\n",
    "    def __init__(self, centerRay, width):\n",
    "        self.centerRay = centerRay\n",
    "        self.currentPoint = centerRay.currentPoint\n",
    "        self.beamDirection = centerRay.directionVector\n",
    "        self.width = width\n",
    "        self.color = centerRay.color\n",
    "        self.beam = []\n",
    "        #### The following line is added and the two lines defining the perpendiculars are removed\n",
    "        self.find_perp()   #Find two rays perpendicular to centerRay\n",
    "    \n",
    "        self.draw_beam()\n",
    "        \n",
    "    ### The following method is added to create the two perpendicular rays    \n",
    "    def find_perp(self):\n",
    "        '''Find two vectors perpendicular to the center ray'''\n",
    "        if centerRay.directionVector.y==0 and centerRay.directionVector.x==0:\n",
    "            self.perp1=vec(1,0,0)\n",
    "        else:\n",
    "            self.perp1 = norm(vec(centerRay.directionVector.y,-centerRay.directionVector.x,0))\n",
    "        self.perp2 = norm(vec(centerRay.directionVector.cross(self.perp1)))\n",
    "    ### End changes\n",
    "        \n",
    "    def draw_beam(self):\n",
    "        '''Draw a beam; lots of parallel rays'''\n",
    "        for i in numpy.arange(0,self.width,.1): #CAN WE DEFINE A BEAM USING A FOR LOOP?\n",
    "            for k in numpy.arange(0,2*pi+0.1,.1):\n",
    "                self.newStart = centerRay.startPoint + i*(self.perp1*cos(k)+self.perp2*sin(k))\n",
    "            \n",
    "                beamRay = ray(self.newStart, self.beamDirection, self.color)\n",
    "                        \n",
    "                self.beam.append(beamRay)\n",
    "        \n",
    "#Do Class for Point Source\n",
    "class pointSource():\n",
    "    def __init__(self, position, color):\n",
    "        self.position = position\n",
    "        self.color = color\n",
    "        self.pointSource = []\n",
    "        self.source = sphere(pos=vec(centerRay.startPoint), radius=0.01, color=self.color)\n",
    "        \n",
    "        self.draw_pointSource()\n",
    "    \n",
    "    def draw_pointSource(self):\n",
    "        '''Draw a point source'''\n",
    "        self.source\n",
    "        \n",
    "        for i in numpy.arange(0,2*pi+0.1,.1):\n",
    "            for k in numpy.arange(0,2*pi+0.1,.1):\n",
    "                \n",
    "                x = centerRay.length*(cos(k)*cos(i))\n",
    "                y = centerRay.length*(cos(k)*sin(i))\n",
    "                z = centerRay.length*(sin(k))\n",
    "                \n",
    "                pointSourceRay = ray(self.position, vec(x,y,z), self.color)\n",
    "                \n",
    "                self.pointSource.append(pointSourceRay)\n",
    "                        \n",
    "centerRay = ray(vec(0,0,0), vec(1,1,1), color.green)\n",
    "beam1 = beam(centerRay, 4)\n",
    "#pointSource1 = pointSource(centerRay.startPoint, color.blue)\n"
   ]
  },
  {
   "cell_type": "code",
   "execution_count": null,
   "metadata": {
    "collapsed": true
   },
   "outputs": [],
   "source": []
  }
 ],
 "metadata": {
  "kernelspec": {
   "display_name": "Python 3",
   "language": "python",
   "name": "python3"
  },
  "language_info": {
   "codemirror_mode": {
    "name": "ipython",
    "version": 3
   },
   "file_extension": ".py",
   "mimetype": "text/x-python",
   "name": "python",
   "nbconvert_exporter": "python",
   "pygments_lexer": "ipython3",
   "version": "3.6.1"
  }
 },
 "nbformat": 4,
 "nbformat_minor": 2
}
