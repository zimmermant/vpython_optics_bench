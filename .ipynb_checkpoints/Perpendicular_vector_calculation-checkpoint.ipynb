{
 "cells": [
  {
   "cell_type": "code",
   "execution_count": null,
   "metadata": {},
   "outputs": [],
   "source": [
    "from vpython import *\n",
    "\n",
    "d1=vec(1,3,1)\n",
    "\n",
    "d=arrow(pos=vec(0,0,0), axis=vec(1,3,1))\n",
    "#p=arrow(pos=vec(0,0,0), axis=vec(0,1,-3),color=color.red)\n",
    "#q=arrow(pos=vec(0,0,0), axis=vec(-3,1,0),color=color.blue)\n",
    "#r=arrow(pos=vec(0,0,0), axis=vec(2,0,-2), color=color.yellow)\n",
    "s1=vec(3,-1,0)\n",
    "s=arrow(pos=vec(0,0,0), axis=vec(3,-1,0),color=color.green)\n",
    "\n",
    "c1=0.2*d1.cross(s1)\n",
    "cd=arrow(pos=vec(0,0,0), axis=c1,color=color.blue)"
   ]
  },
  {
   "cell_type": "code",
   "execution_count": null,
   "metadata": {
    "collapsed": true
   },
   "outputs": [],
   "source": []
  },
  {
   "cell_type": "code",
   "execution_count": null,
   "metadata": {
    "collapsed": true
   },
   "outputs": [],
   "source": []
  },
  {
   "cell_type": "code",
   "execution_count": null,
   "metadata": {
    "collapsed": true
   },
   "outputs": [],
   "source": []
  }
 ],
 "metadata": {
  "kernelspec": {
   "display_name": "VPython",
   "language": "python",
   "name": "vpython"
  },
  "language_info": {
   "codemirror_mode": {
    "name": "ipython",
    "version": 3
   },
   "file_extension": ".py",
   "mimetype": "text/x-python",
   "name": "python",
   "nbconvert_exporter": "python",
   "pygments_lexer": "ipython3",
   "version": "3.6.1"
  }
 },
 "nbformat": 4,
 "nbformat_minor": 2
}
