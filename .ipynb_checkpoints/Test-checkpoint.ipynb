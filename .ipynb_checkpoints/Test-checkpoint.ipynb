{
 "cells": [
  {
   "cell_type": "code",
   "execution_count": null,
   "metadata": {},
   "outputs": [],
   "source": [
    "from vpython import *\n",
    "\n",
    "#This iteration projects rays from a sphere projecting to the surface of a larger spheroid.\n",
    "\n",
    "spikeball = sphere(pos = vector(0, 0, 0), radius = 0.01, color = color.white)\n",
    "r = curve(pos = [(0,0,0), (0,0,0)])\n",
    "\n",
    "r.aa = curve(pos = [(0,0,0),(1, 0, 0)], color = color.yellow) #Set of rays along each axis\n",
    "r.ab = curve(pos = [(0,0,0),(-1, 0, 0)], color = color.yellow)\n",
    "r.ac = curve(pos = [(0,0,0),(0, 1, 0)], color = color.yellow)\n",
    "r.ad = curve(pos = [(0,0,0),(0, -1, 0)], color = color.yellow)\n",
    "r.ae = curve(pos = [(0,0,0),(0, 0, 1)], color = color.yellow)\n",
    "r.af = curve(pos = [(0,0,0),(0, 0, -1)], color = color.yellow)\n",
    "\n",
    "r.ba = curve(pos = [(0,0,0),(100/141.421, 100/141.421, 0)], color = color.yellow) #Set of rays in 2D planes of two coordinate axes\n",
    "r.bb = curve(pos = [(0,0,0),(-100/141.421, 100/141.421, 0)], color = color.yellow)\n",
    "r.bc = curve(pos = [(0,0,0),(100/141.421, -100/141.421, 0)], color = color.yellow)\n",
    "r.bd = curve(pos = [(0,0,0),(-100/141.421, -100/141.421, 0)], color = color.yellow)\n",
    "r.be = curve(pos = [(0,0,0),(100/141.421, 0, 100/141.421)], color = color.yellow)\n",
    "r.bf = curve(pos = [(0,0,0),(-100/141.421, 0, 100/141.421)], color = color.yellow)\n",
    "r.bg = curve(pos = [(0,0,0),(100/141.421, 0, -100/141.421)], color = color.yellow)\n",
    "r.bh = curve(pos = [(0,0,0),(-100/141.421, 0, -100/141.421)], color = color.yellow)\n",
    "r.bi = curve(pos = [(0,0,0),(0, 100/141.421, 100/141.421)], color = color.yellow)\n",
    "r.bj = curve(pos = [(0,0,0),(0, -100/141.421, 100/141.421)], color = color.yellow)\n",
    "r.bk = curve(pos = [(0,0,0),(0, 100/141.421, -100/141.421)], color = color.yellow)\n",
    "r.bl = curve(pos = [(0,0,0),(0, -100/141.421, -100/141.421)], color = color.yellow)\n",
    "\n",
    "r.m = curve(pos = [(0,0,0), (100/173.205081,100/173.205081,100/173.205081)], color = color.yellow) #Set of rays along no explicit axis\n",
    "r.n = curve(pos = [(0,0,0), (-100/173.205081,100/173.205081,100/173.205081)], color = color.yellow)\n",
    "r.o = curve(pos = [(0,0,0), (100/173.205081,-100/173.205081,100/173.205081)], color = color.yellow)\n",
    "r.p = curve(pos = [(0,0,0), (100/173.205081,100/173.205081,-100/173.205081)], color = color.yellow)\n",
    "r.q = curve(pos = [(0,0,0), (-100/173.205081,-100/173.205081,100/173.205081)], color = color.yellow)\n",
    "r.r = curve(pos = [(0,0,0), (-100/173.205081,-100/173.205081,-100/173.205081)], color = color.yellow)\n",
    "r.s = curve(pos = [(0,0,0), (100/173.205081,-100/173.205081,-100/173.205081)], color = color.yellow)\n",
    "r.t = curve(pos = [(0,0,0), (-100/173.205081,100/173.205081,-100/173.205081)], color = color.yellow)\n",
    "\n"
   ]
  },
  {
   "cell_type": "code",
   "execution_count": null,
   "metadata": {
    "collapsed": true
   },
   "outputs": [],
   "source": [
    "from vpython import *\n",
    "#This iteration projects rays from a sphere projecting to the surface of a larger cubeoid.\n",
    "\n",
    "spikecube = sphere(pos = vector(0, 0, 0), radius = 0.01, color = color.white)\n",
    "r = curve(pos = [(0,0,0), (0,0,0)])\n",
    "\n",
    "r.aa = curve(pos = [(0,0,0),(1, 0, 0)], color = color.yellow) #Set of rays along each axis\n",
    "r.ab = curve(pos = [(0,0,0),(-1, 0, 0)], color = color.yellow)\n",
    "r.ac = curve(pos = [(0,0,0),(0, 1, 0)], color = color.yellow)\n",
    "r.ad = curve(pos = [(0,0,0),(0, -1, 0)], color = color.yellow)\n",
    "r.ae = curve(pos = [(0,0,0),(0, 0, 1)], color = color.yellow)\n",
    "r.af = curve(pos = [(0,0,0),(0, 0, -1)], color = color.yellow)\n",
    "\n",
    "r.ba = curve(pos = [(0,0,0),(1, 1, 0)], color = color.yellow) #Set of rays in 2D planes of two coordinate axes\n",
    "r.bb = curve(pos = [(0,0,0),(-1, 1, 0)], color = color.yellow)\n",
    "r.bc = curve(pos = [(0,0,0),(1, -1, 0)], color = color.yellow)\n",
    "r.bd = curve(pos = [(0,0,0),(-1, 0, -1)], color = color.yellow)\n",
    "r.be = curve(pos = [(0,0,0),(1, 0, 1)], color = color.yellow)\n",
    "r.bf = curve(pos = [(0,0,0),(-1, 0, 1)], color = color.yellow)\n",
    "r.bg = curve(pos = [(0,0,0),(1, 0, -1)], color = color.yellow)\n",
    "r.bh = curve(pos = [(0,0,0),(-1, 0, -1)], color = color.yellow)\n",
    "r.bi = curve(pos = [(0,0,0),(0, 1, 1)], color = color.yellow)\n",
    "r.bj = curve(pos = [(0,0,0),(0, -1, 1)], color = color.yellow)\n",
    "r.bk = curve(pos = [(0,0,0),(0, 1, -1)], color = color.yellow)\n",
    "r.bl = curve(pos = [(0,0,0),(0, -1, -1)], color = color.yellow)\n",
    "\n",
    "r.m = curve(pos = [(0,0,0), (1,1,1)], color = color.yellow) #Set of rays along no explicit axis\n",
    "r.n = curve(pos = [(0,0,0), (-1,1,1)], color = color.yellow)\n",
    "r.o = curve(pos = [(0,0,0), (1,-1,1)], color = color.yellow)\n",
    "r.p = curve(pos = [(0,0,0), (1,1,-1)], color = color.yellow)\n",
    "r.q = curve(pos = [(0,0,0), (-1,-1,1)], color = color.yellow)\n",
    "r.r = curve(pos = [(0,0,0), (-1,-1,-1)], color = color.yellow)\n",
    "r.s = curve(pos = [(0,0,0), (1,-1,-1)], color = color.yellow)\n",
    "r.t = curve(pos = [(0,0,0), (-1,1,-1)], color = color.yellow)"
   ]
  },
  {
   "cell_type": "code",
   "execution_count": null,
   "metadata": {},
   "outputs": [],
   "source": [
    "#Full Sphere of rays (point source)\n",
    "from vpython import *\n",
    "import numpy \n",
    "\n",
    "\n",
    "list_of_rays=[]  # Create an empty list named 'list_of_rays'\n",
    "L=1  #Define a length for the rays\n",
    "\n",
    "#step 0.6 is about the limit of my computer's power I think...\n",
    "for i in numpy.arange(0,2*pi,.06):\n",
    "    for k in numpy.arange(0,2*pi,.06):\n",
    "    \n",
    "        x=10*cos(k)*cos(i)\n",
    "        y=10*cos(k)*sin(i)\n",
    "        z=10*sin(k)\n",
    "    \n",
    "        source=curve(pos=[vec(0,0,0),vec(x,y,z)], color=color.green)\n",
    "  #  list_of_rays.append(new_curve)\n",
    "\n",
    "#Trying to put a plane (or box) through the rays\n",
    "\n",
    "#mybox = box(pos=[vec(5,0,0)], axis=(1,1,0), length=10, height=10, width=1)\n",
    "#rt = shapes.rectangle(pos=(0,0), width=10, height=10)\n",
    "#plane=box(pos=[vec(5,0,0)], axis=[vec(1,1,0)], Height=10, Width=1)"
   ]
  },
  {
   "cell_type": "code",
   "execution_count": null,
   "metadata": {
    "collapsed": true
   },
   "outputs": [],
   "source": []
  }
 ],
 "metadata": {
  "kernelspec": {
   "display_name": "Python 3",
   "language": "python",
   "name": "python3"
  },
  "language_info": {
   "codemirror_mode": {
    "name": "ipython",
    "version": 3
   },
   "file_extension": ".py",
   "mimetype": "text/x-python",
   "name": "python",
   "nbconvert_exporter": "python",
   "pygments_lexer": "ipython3",
   "version": "3.6.1"
  }
 },
 "nbformat": 4,
 "nbformat_minor": 2
}
